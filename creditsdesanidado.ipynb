{
 "cells": [
  {
   "cell_type": "code",
   "execution_count": 13,
   "metadata": {},
   "outputs": [],
   "source": [
    "import pandas as pd\n",
    "import json \n",
    "import ast \n",
    "\n",
    "# Reemplaza 'ruta_del_archivo.csv' con la ruta real de tu archivo\n",
    "credits_df = pd.read_csv(\"Movies\\credits.csv\", low_memory=False)\n"
   ]
  },
  {
   "cell_type": "code",
   "execution_count": 14,
   "metadata": {},
   "outputs": [],
   "source": [
    "\n",
    "# Desanidar la columna 'cast' y mantener 'id'\n",
    "credits_df['cast'] = credits_df['cast'].apply(lambda x: ast.literal_eval(x) if isinstance(x, str) else x)\n",
    "credits_df = credits_df[credits_df['cast'].notna() & credits_df['cast'].apply(lambda x: len(x) > 0 if isinstance(x, list) else False)]\n",
    "cast_expanded = credits_df.explode('cast', ignore_index=True)\n",
    "cast_expanded['cast_id'] = cast_expanded['cast'].apply(lambda x: x.get('cast_id') if isinstance(x, dict) else None)\n",
    "cast_expanded['cast_character'] = cast_expanded['cast'].apply(lambda x: x.get('character') if isinstance(x, dict) else None)\n",
    "cast_expanded['cast_credit_id'] = cast_expanded['cast'].apply(lambda x: x.get('credit_id') if isinstance(x, dict) else None)\n",
    "cast_expanded['cast_gender'] = cast_expanded['cast'].apply(lambda x: x.get('gender') if isinstance(x, dict) else None)\n",
    "cast_expanded['cast_name'] = cast_expanded['cast'].apply(lambda x: x.get('name') if isinstance(x, dict) else None)\n",
    "cast_expanded['cast_order'] = cast_expanded['cast'].apply(lambda x: x.get('order') if isinstance(x, dict) else None)\n",
    "cast_expanded['cast_profile_path'] = cast_expanded['cast'].apply(lambda x: x.get('profile_path') if isinstance(x, dict) else None)\n",
    "cast_expanded['id'] = credits_df['id']\n",
    "cast_expanded = cast_expanded.drop(columns=['cast'])\n",
    "\n",
    "# Desanidar la columna 'crew' y mantener 'id'\n",
    "credits_df['crew'] = credits_df['crew'].apply(lambda x: ast.literal_eval(x) if isinstance(x, str) else x)\n",
    "credits_df = credits_df[credits_df['crew'].notna() & credits_df['crew'].apply(lambda x: len(x) > 0 if isinstance(x, list) else False)]\n",
    "crew_expanded = credits_df.explode('crew', ignore_index=True)\n",
    "crew_expanded['crew_credit_id'] = crew_expanded['crew'].apply(lambda x: x.get('credit_id') if isinstance(x, dict) else None)\n",
    "crew_expanded['crew_department'] = crew_expanded['crew'].apply(lambda x: x.get('department') if isinstance(x, dict) else None)\n",
    "crew_expanded['crew_gender'] = crew_expanded['crew'].apply(lambda x: x.get('gender') if isinstance(x, dict) else None)\n",
    "crew_expanded['crew_id'] = crew_expanded['crew'].apply(lambda x: x.get('id') if isinstance(x, dict) else None)\n",
    "crew_expanded['crew_job'] = crew_expanded['crew'].apply(lambda x: x.get('job') if isinstance(x, dict) else None)\n",
    "crew_expanded['crew_name'] = crew_expanded['crew'].apply(lambda x: x.get('name') if isinstance(x, dict) else None)\n",
    "crew_expanded['crew_profile_path'] = crew_expanded['crew'].apply(lambda x: x.get('profile_path') if isinstance(x, dict) else None)\n",
    "crew_expanded['id'] = credits_df['id']\n",
    "crew_expanded = crew_expanded.drop(columns=['crew'])\n",
    "\n",
    "# Concatenar 'cast' y 'crew' junto con 'id'\n",
    "df_final = pd.concat([cast_expanded.reset_index(drop=True), crew_expanded.reset_index(drop=True)], axis=1)\n",
    "\n",
    "\n"
   ]
  },
  {
   "cell_type": "code",
   "execution_count": 15,
   "metadata": {},
   "outputs": [],
   "source": [
    "# Eliminar las columnas 'cast' y 'crew' originales\n",
    "df_final = df_final.drop(columns=['cast', 'crew'])\n",
    "\n"
   ]
  },
  {
   "cell_type": "code",
   "execution_count": 16,
   "metadata": {},
   "outputs": [
    {
     "name": "stdout",
     "output_type": "stream",
     "text": [
      "¿Las columnas 'cast_credit_id' y 'crew_credit_id' son iguales?: False\n"
     ]
    }
   ],
   "source": [
    "# Verificar si 'cast_credit_id' y 'crew_credit_id' son idénticas\n",
    "are_equal = df_final['cast_credit_id'].equals(df_final['crew_credit_id'])\n",
    "\n",
    "print(\"¿Las columnas 'cast_credit_id' y 'crew_credit_id' son iguales?:\", are_equal)\n"
   ]
  },
  {
   "cell_type": "code",
   "execution_count": 17,
   "metadata": {},
   "outputs": [
    {
     "name": "stdout",
     "output_type": "stream",
     "text": [
      "Valores únicos en 'cast_credit_id': 562044\n",
      "Valores únicos en 'crew_credit_id': 459078\n",
      "Valores comunes entre ambas columnas: 0\n"
     ]
    }
   ],
   "source": [
    "unique_cast_credit_ids = df_final['cast_credit_id'].nunique()\n",
    "unique_crew_credit_ids = df_final['crew_credit_id'].nunique()\n",
    "common_ids = set(df_final['cast_credit_id']).intersection(set(df_final['crew_credit_id']))\n",
    "\n",
    "print(\"Valores únicos en 'cast_credit_id':\", unique_cast_credit_ids)\n",
    "print(\"Valores únicos en 'crew_credit_id':\", unique_crew_credit_ids)\n",
    "print(\"Valores comunes entre ambas columnas:\", len(common_ids))\n"
   ]
  },
  {
   "cell_type": "code",
   "execution_count": 18,
   "metadata": {},
   "outputs": [
    {
     "name": "stdout",
     "output_type": "stream",
     "text": [
      "Diferencias entre 'cast_credit_id' y 'crew_credit_id':\n",
      "             cast_credit_id            crew_credit_id\n",
      "0  52fe4284c3a36847f8024f95  52fe4284c3a36847f8024f49\n",
      "1  52fe4284c3a36847f8024f99  52fe4284c3a36847f8024f4f\n",
      "2  52fe4284c3a36847f8024f9d  52fe4284c3a36847f8024f55\n",
      "3  52fe4284c3a36847f8024fa1  52fe4284c3a36847f8024f5b\n",
      "4  52fe4284c3a36847f8024fa5  52fe4284c3a36847f8024f61\n"
     ]
    }
   ],
   "source": [
    "differences = df_final[df_final['cast_credit_id'] != df_final['crew_credit_id']]\n",
    "print(\"Diferencias entre 'cast_credit_id' y 'crew_credit_id':\")\n",
    "print(differences[['cast_credit_id', 'crew_credit_id']].head())\n"
   ]
  },
  {
   "cell_type": "code",
   "execution_count": 19,
   "metadata": {},
   "outputs": [
    {
     "name": "stdout",
     "output_type": "stream",
     "text": [
      "        id  cast_id           cast_character            cast_credit_id  \\\n",
      "0    862.0       14            Woody (voice)  52fe4284c3a36847f8024f95   \n",
      "1   8844.0       15   Buzz Lightyear (voice)  52fe4284c3a36847f8024f99   \n",
      "2  15602.0       16  Mr. Potato Head (voice)  52fe4284c3a36847f8024f9d   \n",
      "3  31357.0       17       Slinky Dog (voice)  52fe4284c3a36847f8024fa1   \n",
      "4  11862.0       18              Rex (voice)  52fe4284c3a36847f8024fa5   \n",
      "\n",
      "   cast_gender      cast_name  cast_order                 cast_profile_path  \\\n",
      "0            2      Tom Hanks           0  /pQFoyx7rp09CJTAb932F2g8Nlho.jpg   \n",
      "1            2      Tim Allen           1  /uX2xVf6pMmPepxnvFWyBtjexzgY.jpg   \n",
      "2            2    Don Rickles           2  /h5BcaDMPRVLHLDzbQavec4xfSdt.jpg   \n",
      "3            2     Jim Varney           3  /eIo2jVVXYgjDtaHoF19Ll9vtW7h.jpg   \n",
      "4            2  Wallace Shawn           4  /oGE6JqPP2xH4tNORKNqxbNPYi7u.jpg   \n",
      "\n",
      "        id            crew_credit_id crew_department  crew_gender  crew_id  \\\n",
      "0    862.0  52fe4284c3a36847f8024f49       Directing          2.0   7879.0   \n",
      "1   8844.0  52fe4284c3a36847f8024f4f         Writing          2.0  12891.0   \n",
      "2  15602.0  52fe4284c3a36847f8024f55         Writing          2.0      7.0   \n",
      "3  31357.0  52fe4284c3a36847f8024f5b         Writing          2.0  12892.0   \n",
      "4  11862.0  52fe4284c3a36847f8024f61         Writing          0.0  12893.0   \n",
      "\n",
      "     crew_job       crew_name                 crew_profile_path  \n",
      "0    Director   John Lasseter  /7EdqiNbr4FRjIhKHyPPdFfEEEFG.jpg  \n",
      "1  Screenplay     Joss Whedon  /dTiVsuaTVTeGmvkhcyJvKp2A5kr.jpg  \n",
      "2  Screenplay  Andrew Stanton  /pvQWsu0qc8JFQhMVJkTHuexUAa1.jpg  \n",
      "3  Screenplay      Joel Cohen  /dAubAiZcvKFbboWlj7oXOkZnTSu.jpg  \n",
      "4  Screenplay    Alec Sokolow  /v79vlRYi94BZUQnkkyznbGUZLjT.jpg  \n"
     ]
    }
   ],
   "source": [
    "print(df_final.head())"
   ]
  },
  {
   "cell_type": "code",
   "execution_count": 20,
   "metadata": {},
   "outputs": [
    {
     "name": "stdout",
     "output_type": "stream",
     "text": [
      "Columnas con contenido similar:\n",
      "id y id tienen contenido similar\n"
     ]
    }
   ],
   "source": [
    "# Función para identificar columnas similares\n",
    "def find_similar_columns(df):\n",
    "    similar_cols = []\n",
    "    for i, col1 in enumerate(df.columns):\n",
    "        for col2 in df.columns[i + 1:]:\n",
    "            if df[col1].equals(df[col2]):\n",
    "                similar_cols.append((col1, col2))\n",
    "            elif pd.api.types.is_numeric_dtype(df[col1]) and pd.api.types.is_numeric_dtype(df[col2]):\n",
    "                if df[[col1, col2]].corr().iloc[0, 1] > 0.95:\n",
    "                    similar_cols.append((col1, col2))\n",
    "    return similar_cols\n",
    "\n",
    "# Aplicar la función en el DataFrame\n",
    "similar_columns = find_similar_columns(df_final)\n",
    "\n",
    "# Mostrar columnas con contenido similar\n",
    "print(\"Columnas con contenido similar:\")\n",
    "for col1, col2 in similar_columns:\n",
    "    print(f\"{col1} y {col2} tienen contenido similar\")"
   ]
  },
  {
   "cell_type": "code",
   "execution_count": 21,
   "metadata": {},
   "outputs": [
    {
     "data": {
      "text/plain": [
       "'Movies/creditsfinal.csv'"
      ]
     },
     "execution_count": 21,
     "metadata": {},
     "output_type": "execute_result"
    }
   ],
   "source": [
    "\n",
    "# Exportar el DataFrame final a un archivo CSV dentro de la carpeta 'Movies'\n",
    "output_file_path = 'Movies/creditsfinal.csv'\n",
    "df_final.to_csv(output_file_path, index=False)\n",
    "\n",
    "output_file_path\n"
   ]
  },
  {
   "cell_type": "code",
   "execution_count": 22,
   "metadata": {},
   "outputs": [],
   "source": [
    "\n",
    "#from pandasgui import show\n",
    "#show(df_final)"
   ]
  }
 ],
 "metadata": {
  "kernelspec": {
   "display_name": "Python 3",
   "language": "python",
   "name": "python3"
  },
  "language_info": {
   "codemirror_mode": {
    "name": "ipython",
    "version": 3
   },
   "file_extension": ".py",
   "mimetype": "text/x-python",
   "name": "python",
   "nbconvert_exporter": "python",
   "pygments_lexer": "ipython3",
   "version": "3.11.9"
  }
 },
 "nbformat": 4,
 "nbformat_minor": 2
}
