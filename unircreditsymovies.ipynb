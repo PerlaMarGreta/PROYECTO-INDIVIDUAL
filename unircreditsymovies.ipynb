{
 "cells": [
  {
   "cell_type": "code",
   "execution_count": 2,
   "metadata": {},
   "outputs": [],
   "source": [
    "import pandas as pd\n",
    "\n"
   ]
  },
  {
   "cell_type": "code",
   "execution_count": 6,
   "metadata": {},
   "outputs": [
    {
     "name": "stderr",
     "output_type": "stream",
     "text": [
      "C:\\Users\\Greta\\AppData\\Local\\Temp\\ipykernel_6484\\965036612.py:1: DtypeWarning: Columns (9,10,13,14,15) have mixed types. Specify dtype option on import or set low_memory=False.\n",
      "  credits = pd.read_csv(\"C:\\PerlaMar\\GretaCombold\\Progamacion\\Data Science\\M6\\PI INDIVIDUAL\\Movies\\creditsfinal.csv\")\n"
     ]
    }
   ],
   "source": [
    "credits = pd.read_csv(\"C:\\PerlaMar\\GretaCombold\\Progamacion\\Data Science\\M6\\PI INDIVIDUAL\\Movies\\creditsfinal.csv\")\n",
    "movies = pd.read_csv(\"C:\\PerlaMar\\GretaCombold\\Progamacion\\Data Science\\M6\\PI INDIVIDUAL\\Movies\\df_final_exported.csv\")\n"
   ]
  },
  {
   "cell_type": "code",
   "execution_count": 8,
   "metadata": {},
   "outputs": [],
   "source": [
    "credits = credits.dropna(subset=['id'])\n",
    "credits['id'] = credits['id'].astype(int)\n"
   ]
  },
  {
   "cell_type": "code",
   "execution_count": 9,
   "metadata": {},
   "outputs": [],
   "source": [
    "credits['id'] = credits['id'].astype(int)\n",
    "movies['id'] = movies['id'].astype(int)\n"
   ]
  },
  {
   "cell_type": "code",
   "execution_count": 10,
   "metadata": {},
   "outputs": [],
   "source": [
    "movies_credits_merged = movies.merge(credits, on='id', how='left')\n"
   ]
  },
  {
   "cell_type": "code",
   "execution_count": 11,
   "metadata": {},
   "outputs": [
    {
     "name": "stdout",
     "output_type": "stream",
     "text": [
      "     budget    id original_language  \\\n",
      "0  30000000   862                en   \n",
      "1  30000000   862                en   \n",
      "2  30000000   862                en   \n",
      "3  65000000  8844                en   \n",
      "4  65000000  8844                en   \n",
      "\n",
      "                                            overview  popularity release_date  \\\n",
      "0  Led by Woody, Andy's toys live happily in his ...   21.946943   1995-10-30   \n",
      "1  Led by Woody, Andy's toys live happily in his ...   21.946943   1995-10-30   \n",
      "2  Led by Woody, Andy's toys live happily in his ...   21.946943   1995-10-30   \n",
      "3  When siblings Judy and Peter discover an encha...   17.015539   1995-12-15   \n",
      "4  When siblings Judy and Peter discover an encha...   17.015539   1995-12-15   \n",
      "\n",
      "       revenue  runtime    status                                    tagline  \\\n",
      "0  373554033.0     81.0  Released                                        NaN   \n",
      "1  373554033.0     81.0  Released                                        NaN   \n",
      "2  373554033.0     81.0  Released                                        NaN   \n",
      "3  262797249.0    104.0  Released  Roll the dice and unleash the excitement!   \n",
      "4  262797249.0    104.0  Released  Roll the dice and unleash the excitement!   \n",
      "\n",
      "   ... cast_order                 cast_profile_path    id.1  \\\n",
      "0  ...        0.0  /pQFoyx7rp09CJTAb932F2g8Nlho.jpg   862.0   \n",
      "1  ...        0.0  /pQFoyx7rp09CJTAb932F2g8Nlho.jpg   862.0   \n",
      "2  ...        0.0  /pQFoyx7rp09CJTAb932F2g8Nlho.jpg   862.0   \n",
      "3  ...        1.0  /uX2xVf6pMmPepxnvFWyBtjexzgY.jpg  8844.0   \n",
      "4  ...        1.0  /uX2xVf6pMmPepxnvFWyBtjexzgY.jpg  8844.0   \n",
      "\n",
      "             crew_credit_id crew_department crew_gender  crew_id    crew_job  \\\n",
      "0  52fe4284c3a36847f8024f49       Directing         2.0   7879.0    Director   \n",
      "1  52fe4284c3a36847f8024f49       Directing         2.0   7879.0    Director   \n",
      "2  52fe4284c3a36847f8024f49       Directing         2.0   7879.0    Director   \n",
      "3  52fe4284c3a36847f8024f4f         Writing         2.0  12891.0  Screenplay   \n",
      "4  52fe4284c3a36847f8024f4f         Writing         2.0  12891.0  Screenplay   \n",
      "\n",
      "       crew_name                 crew_profile_path  \n",
      "0  John Lasseter  /7EdqiNbr4FRjIhKHyPPdFfEEEFG.jpg  \n",
      "1  John Lasseter  /7EdqiNbr4FRjIhKHyPPdFfEEEFG.jpg  \n",
      "2  John Lasseter  /7EdqiNbr4FRjIhKHyPPdFfEEEFG.jpg  \n",
      "3    Joss Whedon  /dTiVsuaTVTeGmvkhcyJvKp2A5kr.jpg  \n",
      "4    Joss Whedon  /dTiVsuaTVTeGmvkhcyJvKp2A5kr.jpg  \n",
      "\n",
      "[5 rows x 42 columns]\n"
     ]
    }
   ],
   "source": [
    "print(movies_credits_merged.head())\n"
   ]
  },
  {
   "cell_type": "code",
   "execution_count": 12,
   "metadata": {},
   "outputs": [
    {
     "name": "stdout",
     "output_type": "stream",
     "text": [
      "0                Tom Hanks\n",
      "1                Tom Hanks\n",
      "2                Tom Hanks\n",
      "3                Tim Allen\n",
      "4                Tim Allen\n",
      "               ...        \n",
      "93912    Valente Rodriguez\n",
      "93913    Valente Rodriguez\n",
      "93914    Valente Rodriguez\n",
      "93915           Brent Roam\n",
      "93916                  NaN\n",
      "Name: cast_name, Length: 93917, dtype: object\n"
     ]
    }
   ],
   "source": [
    "print(movies_credits_merged['cast_name'])\n"
   ]
  },
  {
   "cell_type": "code",
   "execution_count": 13,
   "metadata": {},
   "outputs": [],
   "source": [
    "movies_credits_merged['id_comparison'] = movies_credits_merged['id'] == movies_credits_merged['id.1']\n"
   ]
  },
  {
   "cell_type": "code",
   "execution_count": 14,
   "metadata": {},
   "outputs": [
    {
     "name": "stdout",
     "output_type": "stream",
     "text": [
      "           id  id.1\n",
      "325    124639   NaN\n",
      "457     56088   NaN\n",
      "575     43475   NaN\n",
      "576     43475   NaN\n",
      "577     43475   NaN\n",
      "...       ...   ...\n",
      "93867  455661   NaN\n",
      "93876   44330   NaN\n",
      "93886  122036   NaN\n",
      "93894  276895   NaN\n",
      "93916  461257   NaN\n",
      "\n",
      "[3597 rows x 2 columns]\n"
     ]
    }
   ],
   "source": [
    "discrepancies = movies_credits_merged[movies_credits_merged['id_comparison'] == False]\n",
    "print(discrepancies[['id', 'id.1']])\n"
   ]
  },
  {
   "cell_type": "code",
   "execution_count": 15,
   "metadata": {},
   "outputs": [
    {
     "name": "stdout",
     "output_type": "stream",
     "text": [
      "      budget      id original_language  \\\n",
      "325        0  124639                en   \n",
      "457        0   56088                en   \n",
      "575        0   43475                en   \n",
      "576        0   43475                en   \n",
      "577        0   43475                en   \n",
      "578        0   43475                en   \n",
      "960        0   42981                en   \n",
      "1069       0   24257                en   \n",
      "1476       0  124472                en   \n",
      "1519       0  123505                en   \n",
      "\n",
      "                                               overview  popularity  \\\n",
      "325    A subtle yet violent commentary on feudal lords.    0.001205   \n",
      "457   A documentary about the culture of hip-hop. Th...    0.159596   \n",
      "575   The band is back together! Gumby reunites with...    0.090452   \n",
      "576   The band is back together! Gumby reunites with...    0.090452   \n",
      "577   The band is back together! Gumby reunites with...    0.090452   \n",
      "578   The band is back together! Gumby reunites with...    0.090452   \n",
      "960   Before computer graphics, special effects wiza...    0.142357   \n",
      "1069  Bruce Brown, king of surfing documentaries, re...    0.408159   \n",
      "1476  Art Kane, now deceased, coordinated a group ph...    0.076352   \n",
      "1519  A Modern Affair is an independent feature dire...    0.173207   \n",
      "\n",
      "     release_date  revenue  runtime    status  \\\n",
      "325    1995-08-01      0.0    122.0  Released   \n",
      "457    1995-08-25      0.0     93.0       NaN   \n",
      "575    1995-12-01      0.0     77.0  Released   \n",
      "576    1995-12-01      0.0     77.0  Released   \n",
      "577    1995-12-01      0.0     77.0  Released   \n",
      "578    1995-12-01      0.0     77.0  Released   \n",
      "960    1995-10-20      0.0     89.0  Released   \n",
      "1069   1994-06-03      0.0    109.0  Released   \n",
      "1476   1994-09-27      0.0     60.0  Released   \n",
      "1519   1996-09-06      0.0     90.0  Released   \n",
      "\n",
      "                                                tagline  ...  \\\n",
      "325                                                 NaN  ...   \n",
      "457       What Happens On Stage Is Only Half The Story!  ...   \n",
      "575                            The original green hero!  ...   \n",
      "576                            The original green hero!  ...   \n",
      "577                            The original green hero!  ...   \n",
      "578                            The original green hero!  ...   \n",
      "960                                                 NaN  ...   \n",
      "1069                                                NaN  ...   \n",
      "1476                                                NaN  ...   \n",
      "1519  They met, fell in love, and had a baby. (Not n...  ...   \n",
      "\n",
      "                     cast_profile_path  id.1            crew_credit_id  \\\n",
      "325                                NaN   NaN                       NaN   \n",
      "457   /aWRmTrlVgJM7lvPGYPrxQj7w4MX.jpg   NaN  5661581a925141790f0068fd   \n",
      "575                                NaN   NaN                       NaN   \n",
      "576                                NaN   NaN                       NaN   \n",
      "577                                NaN   NaN                       NaN   \n",
      "578                                NaN   NaN                       NaN   \n",
      "960                                NaN   NaN                       NaN   \n",
      "1069                               NaN   NaN                       NaN   \n",
      "1476                               NaN   NaN                       NaN   \n",
      "1519  /pZb3RDVxDNJAOaBHwa078Z4FJiO.jpg   NaN  5494296b9251416e180017c1   \n",
      "\n",
      "        crew_department crew_gender    crew_id      crew_job  \\\n",
      "325                 NaN         NaN        NaN           NaN   \n",
      "457               Sound         2.0  1406905.0  Music Editor   \n",
      "575                 NaN         NaN        NaN           NaN   \n",
      "576                 NaN         NaN        NaN           NaN   \n",
      "577                 NaN         NaN        NaN           NaN   \n",
      "578                 NaN         NaN        NaN           NaN   \n",
      "960                 NaN         NaN        NaN           NaN   \n",
      "1069                NaN         NaN        NaN           NaN   \n",
      "1476                NaN         NaN        NaN           NaN   \n",
      "1519  Costume & Make-Up         0.0  1401251.0   Hairstylist   \n",
      "\n",
      "             crew_name  crew_profile_path id_comparison  \n",
      "325                NaN                NaN         False  \n",
      "457    Michael Connell                NaN         False  \n",
      "575                NaN                NaN         False  \n",
      "576                NaN                NaN         False  \n",
      "577                NaN                NaN         False  \n",
      "578                NaN                NaN         False  \n",
      "960                NaN                NaN         False  \n",
      "1069               NaN                NaN         False  \n",
      "1476               NaN                NaN         False  \n",
      "1519  Charlene Johnson                NaN         False  \n",
      "\n",
      "[10 rows x 43 columns]\n"
     ]
    }
   ],
   "source": [
    "no_match = movies_credits_merged[movies_credits_merged['id.1'].isna()]\n",
    "print(no_match.head(10))  # Muestra 10 filas sin coincidencia\n"
   ]
  },
  {
   "cell_type": "code",
   "execution_count": 16,
   "metadata": {},
   "outputs": [],
   "source": [
    "movies_credits_merged = movies_credits_merged.drop(columns=['id.1'])\n"
   ]
  },
  {
   "cell_type": "code",
   "execution_count": 17,
   "metadata": {},
   "outputs": [],
   "source": [
    "movies_credits_merged.to_csv(\"C:\\PerlaMar\\GretaCombold\\Progamacion\\Data Science\\M6\\PI INDIVIDUAL\\Movies\\dataclean.csv\", index=False)\n"
   ]
  }
 ],
 "metadata": {
  "kernelspec": {
   "display_name": "Python 3",
   "language": "python",
   "name": "python3"
  },
  "language_info": {
   "codemirror_mode": {
    "name": "ipython",
    "version": 3
   },
   "file_extension": ".py",
   "mimetype": "text/x-python",
   "name": "python",
   "nbconvert_exporter": "python",
   "pygments_lexer": "ipython3",
   "version": "3.11.9"
  }
 },
 "nbformat": 4,
 "nbformat_minor": 2
}
